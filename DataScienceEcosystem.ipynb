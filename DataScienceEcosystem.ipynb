{
 "cells": [
  {
   "cell_type": "markdown",
   "id": "67492ef0-8bd1-4d91-9400-e164cb86b301",
   "metadata": {},
   "source": [
    "# Data Science Tools and Ecosystem"
   ]
  },
  {
   "cell_type": "markdown",
   "id": "2a97db97-4c73-4245-8f3b-4be0a503913c",
   "metadata": {},
   "source": [
    "In this notebook, Data Science Tools and Ecosystem are summarized."
   ]
  },
  {
   "cell_type": "markdown",
   "id": "0184f870-1af4-482e-a92c-2fb36651d83f",
   "metadata": {},
   "source": [
    "**Objectives:**\n",
    "- List popular languages for Data Science\n",
    "- List the scientific computing libraries in Python\n",
    "- List the visualization libraries in Python\n",
    "- Define a Jupyter Notebook\n",
    "- Explain what is R\n",
    "- List R capabilities"
   ]
  },
  {
   "cell_type": "markdown",
   "id": "38bfa613-6bf5-4120-bb3a-e76d1289bdf8",
   "metadata": {},
   "source": [
    "Some of the popular languages that Data Scientists use are:"
   ]
  },
  {
   "cell_type": "code",
   "execution_count": null,
   "id": "d84416a6-7fc2-485a-9392-8c390204eccd",
   "metadata": {},
   "outputs": [],
   "source": [
    "1. SQL\n",
    "2. Phyton\n",
    "3. R\n",
    "4. Scala\n",
    "5. Java"
   ]
  },
  {
   "cell_type": "markdown",
   "id": "7bd87100-4d4e-404e-8173-76e16fbd4615",
   "metadata": {},
   "source": [
    "Some of the commonly used libraries used by Data Scientists include:"
   ]
  },
  {
   "cell_type": "code",
   "execution_count": null,
   "id": "a6061453-4ef9-4a74-8b71-59fc1a1d0407",
   "metadata": {},
   "outputs": [],
   "source": [
    "1. NumPy \n",
    "2. Pandas\n",
    "3. Matplotlib\n",
    "4. TensorFlow"
   ]
  },
  {
   "cell_type": "markdown",
   "id": "b011916b-b21f-4e04-af34-7bea75b5f437",
   "metadata": {},
   "source": [
    "Data Science tools\n",
    "1. RStudio\n",
    "2. Spyder\n",
    "3. Jupyter Notebook\n"
   ]
  },
  {
   "cell_type": "markdown",
   "id": "4a5ccae9-851a-4b5b-96ad-5d5dfa4653e2",
   "metadata": {
    "tags": []
   },
   "source": [
    "### Below are a few examples of evaluating arithmetic expressions in Python"
   ]
  },
  {
   "cell_type": "code",
   "execution_count": 1,
   "id": "dfcb4e97-e871-43ce-8598-0b450fc24f73",
   "metadata": {},
   "outputs": [
    {
     "data": {
      "text/plain": [
       "17"
      ]
     },
     "execution_count": 1,
     "metadata": {},
     "output_type": "execute_result"
    }
   ],
   "source": [
    "(3*4)+5 #This a simple arithmetic expression to mutiply then add integers"
   ]
  },
  {
   "cell_type": "code",
   "execution_count": null,
   "id": "7811e254-8439-4b7e-955b-69bc6208103e",
   "metadata": {},
   "outputs": [],
   "source": [
    "#This will convert 200 minutes to hours by diving by 60\n",
    "Minutes = 200"
   ]
  },
  {
   "cell_type": "code",
   "execution_count": null,
   "id": "ea6cb12e-e6b5-4cd0-be0d-ca58b1e7ed17",
   "metadata": {},
   "outputs": [],
   "source": [
    "Hrs = Minutes / 60"
   ]
  },
  {
   "cell_type": "code",
   "execution_count": 3,
   "id": "47de5146-043e-449b-b9ba-3b18fc273f72",
   "metadata": {},
   "outputs": [
    {
     "name": "stdout",
     "output_type": "stream",
     "text": [
      "3.3333333333333335\n"
     ]
    }
   ],
   "source": [
    "print(Hrs)"
   ]
  },
  {
   "cell_type": "markdown",
   "id": "9ac4a674-ae08-48d9-9bfd-13ce82d0f409",
   "metadata": {},
   "source": [
    "# Author\n",
    "Javier Montoya"
   ]
  }
 ],
 "metadata": {
  "kernelspec": {
   "display_name": "Python 3 (ipykernel)",
   "language": "python",
   "name": "python3"
  },
  "language_info": {
   "codemirror_mode": {
    "name": "ipython",
    "version": 3
   },
   "file_extension": ".py",
   "mimetype": "text/x-python",
   "name": "python",
   "nbconvert_exporter": "python",
   "pygments_lexer": "ipython3",
   "version": "3.9.7"
  }
 },
 "nbformat": 4,
 "nbformat_minor": 5
}
